{
 "cells": [
  {
   "cell_type": "markdown",
   "metadata": {},
   "source": [
    "# Non-neural classifiers"
   ]
  },
  {
   "cell_type": "code",
   "execution_count": 52,
   "metadata": {},
   "outputs": [],
   "source": [
    "\"\"\"\n",
    "Import standard libraries, helper functions and sklearn classifiers.\n",
    "\"\"\"\n",
    "import csv\n",
    "import numpy as np\n",
    "import common\n",
    "import preprocess\n",
    "\n",
    "from sklearn import svm, neighbors, tree\n",
    "from sklearn.svm import SVC, LinearSVC\n",
    "from sklearn.ensemble import AdaBoostClassifier\n",
    "from sklearn.model_selection import GridSearchCV, cross_val_score, train_test_split\n",
    "from sklearn.metrics import make_scorer, f1_score\n",
    "from sklearn.decomposition import PCA\n",
    "from sklearn import preprocessing\n",
    "from sklearn.preprocessing import StandardScaler"
   ]
  },
  {
   "cell_type": "markdown",
   "metadata": {},
   "source": [
    "## Load and Pre-process Datasets"
   ]
  },
  {
   "cell_type": "code",
   "execution_count": 53,
   "metadata": {},
   "outputs": [],
   "source": [
    "\"\"\"\n",
    "This cell loads the training and the testing data.\n",
    "\"\"\"\n",
    "\n",
    "X_train = preprocess.load_data(common.X_train_file)\n",
    "X_test = preprocess.load_data(common.X_test_file)\n",
    "y_train = preprocess.load_label(common.y_train_file)\n",
    "\n",
    "X_train = common.normalize(X_train)\n",
    "X_test = common.normalize(X_test)\n",
    "\n",
    "X_train_pca = common.reduce_dimension(X_train, common.DIMENSION)\n",
    "X_test_pca = common.reduce_dimension(X_test, common.DIMENSION)"
   ]
  },
  {
   "cell_type": "markdown",
   "metadata": {},
   "source": [
    "## Classifiers"
   ]
  },
  {
   "cell_type": "code",
   "execution_count": 54,
   "metadata": {},
   "outputs": [],
   "source": [
    "\"\"\"\n",
    "This cell defines functions for all non-neural classifiers used in our\n",
    "submission. Each of the classifiers returns an object 'clf' which\n",
    "implements 'fit'.\n",
    "\"\"\"\n",
    "\n",
    "def dtree(max_depth=None):\n",
    "    # Decision tree classifier\n",
    "    clf = tree.DecisionTreeClassifier(max_depth=max_depth)\n",
    "    return clf\n",
    "\n",
    "def dtree_adaboost():\n",
    "    # Single layer decision trees with AdaBoost\n",
    "    single_tree = dtree(max_depth=1)\n",
    "    clf = AdaBoostClassifier(single_tree, algorithm='SAMME', n_estimators=20)\n",
    "    return clf\n",
    "\n",
    "def SVM(kernel, degree=3, C=1.0, gamma='auto'):\n",
    "    # Support vector machines\n",
    "    clf = svm.SVC(kernel=kernel, degree=degree, C=C, gamma=gamma)\n",
    "    return clf\n",
    "\n",
    "def kNN(n_neighbor=15):\n",
    "    # k nearest neighbours\n",
    "    clf = neighbors.KNeighborsClassifier(n_neighbor)\n",
    "    return clf"
   ]
  },
  {
   "cell_type": "markdown",
   "metadata": {},
   "source": [
    "## Accuracy Evaluators"
   ]
  },
  {
   "cell_type": "code",
   "execution_count": null,
   "metadata": {},
   "outputs": [],
   "source": [
    "\"\"\"\n",
    "This cell defines functions to compute the performance of our model.\n",
    "\"\"\"\n",
    "\n",
    "def compute_f1(model, X, y):\n",
    "    \"\"\"\n",
    "    Given a model and the evaluation data, returns the F1 score.\n",
    "    \"\"\"\n",
    "    return np.mean(cross_val_score(model, X, y, cv=common.N_FOLDS, scoring='f1_weighted'))\n",
    "\n",
    "def accuracy(model, X, y):\n",
    "    \"\"\"\n",
    "    Given a model and the evaluation data, returns the accuracy\n",
    "    score evaluated using cross validation.\n",
    "    \"\"\"\n",
    "    return np.mean(cross_val_score(model, X, y, cv=common.N_FOLDS, scoring='accuracy'))"
   ]
  },
  {
   "cell_type": "markdown",
   "metadata": {},
   "source": [
    "## Evaluation "
   ]
  },
  {
   "cell_type": "code",
   "execution_count": null,
   "metadata": {},
   "outputs": [
    {
     "name": "stdout",
     "output_type": "stream",
     "text": [
      "F1 of linear model is: 0.806997267283\n",
      "Accuracy of linear model is 0.808477296359\n",
      "F1 of polynomial model is: 0.811523934767\n",
      "Accuracy of polynomial model is 0.813680232456\n"
     ]
    },
    {
     "name": "stderr",
     "output_type": "stream",
     "text": [
      "/Library/Frameworks/Python.framework/Versions/3.5/lib/python3.5/site-packages/sklearn/metrics/classification.py:1135: UndefinedMetricWarning: F-score is ill-defined and being set to 0.0 in labels with no predicted samples.\n",
      "  'precision', 'predicted', average, warn_for)\n",
      "/Library/Frameworks/Python.framework/Versions/3.5/lib/python3.5/site-packages/sklearn/metrics/classification.py:1135: UndefinedMetricWarning: F-score is ill-defined and being set to 0.0 in labels with no predicted samples.\n",
      "  'precision', 'predicted', average, warn_for)\n",
      "/Library/Frameworks/Python.framework/Versions/3.5/lib/python3.5/site-packages/sklearn/metrics/classification.py:1135: UndefinedMetricWarning: F-score is ill-defined and being set to 0.0 in labels with no predicted samples.\n",
      "  'precision', 'predicted', average, warn_for)\n",
      "/Library/Frameworks/Python.framework/Versions/3.5/lib/python3.5/site-packages/sklearn/metrics/classification.py:1135: UndefinedMetricWarning: F-score is ill-defined and being set to 0.0 in labels with no predicted samples.\n",
      "  'precision', 'predicted', average, warn_for)\n",
      "/usr/local/lib/python3.6/site-packages/sklearn/metrics/classification.py:1135: UndefinedMetricWarning: F-score is ill-defined and being set to 0.0 in labels with no predicted samples.\n",
      "  'precision', 'predicted', average, warn_for)\n"
     ]
    },
    {
     "name": "stdout",
     "output_type": "stream",
     "text": [
      "F1 of RBF model is: 0.23737993217\n"
     ]
    }
   ],
   "source": [
    "\"\"\"\n",
    "This cell uses different classifiers and prints their F1 scores and accuracies.\n",
    "\"\"\"\n",
    "\n",
    "svm_linear = SVM('linear')\n",
    "f1 = compute_f1(svm_linear, X_train, y_train)\n",
    "print(\"F1 of linear model is:\", f1)\n",
    "acc = accuracy(svm_linear, X_train, y_train)\n",
    "print(\"Accuracy of linear model is\",acc)\n",
    "\n",
    "# Upon experimentation, we found that the results are the best\n",
    "# when degree = 2\n",
    "svm_poly = SVM('poly', degree=2)\n",
    "f1 = compute_f1(svm_poly, X_train, y_train)\n",
    "print(\"F1 of polynomial model is:\", f1)\n",
    "acc = accuracy(svm_poly, X_train, y_train)\n",
    "print(\"Accuracy of polynomial model is\", acc)\n",
    "\n",
    "svm_RBF = SVM('rbf',C=1000,gamma=0.001)\n",
    "f1 = compute_f1(svm_RBF, X_train, y_train)\n",
    "print(\"F1 of RBF model is:\", f1)\n",
    "acc = accuracy(svm_RBF,X_train,y_train)\n",
    "print(\"Accuracy of RBF model is\",acc)\n",
    "\n",
    "decision_tree = dtree()\n",
    "f1 = compute_f1(decision_tree, X_train, y_train)\n",
    "print(\"F1 of decision tree model is:\", f1)\n",
    "acc = accuracy(decision_tree,X_train,y_train)\n",
    "print(\"Accuracy of decision tree model is\",acc)\n",
    "\n",
    "dtree_ada = dtree_adaboost()\n",
    "f1 = compute_f1(dtree_ada, X_train, y_train)\n",
    "print(\"F1 of decision tree model with adaboost is:\", f1)\n",
    "acc = accuracy(dtree_ada,X_train,y_train)\n",
    "print(\"Accuracy of decision tree model with adaboost is\",acc)\n",
    "\n",
    "for k in (1, 3, 5, 7, 9, 11, 13, 15):\n",
    "    print(\"For \",k, \"neighbours\")\n",
    "    knn = kNN(n_neighbor=k)\n",
    "    f1 = compute_f1(knn, X_train, y_train)\n",
    "    print(\"F1 of kNN model is:\", f1)\n",
    "    acc = accuracy(knn,X_train,y_train)\n",
    "    print(\"Accuracy of kNN is\",acc)"
   ]
  },
  {
   "cell_type": "markdown",
   "metadata": {},
   "source": [
    "## Evaluation after Dimensionality Reduction with PCA"
   ]
  },
  {
   "cell_type": "code",
   "execution_count": 62,
   "metadata": {},
   "outputs": [
    {
     "name": "stdout",
     "output_type": "stream",
     "text": [
      "F1 of linear model is: 0.803147509028\n",
      "Accuracy of linear model is 0.804395663706\n"
     ]
    },
    {
     "name": "stderr",
     "output_type": "stream",
     "text": [
      "/usr/local/lib/python3.6/site-packages/sklearn/metrics/classification.py:1135: UndefinedMetricWarning: F-score is ill-defined and being set to 0.0 in labels with no predicted samples.\n",
      "  'precision', 'predicted', average, warn_for)\n",
      "/usr/local/lib/python3.6/site-packages/sklearn/metrics/classification.py:1135: UndefinedMetricWarning: F-score is ill-defined and being set to 0.0 in labels with no predicted samples.\n",
      "  'precision', 'predicted', average, warn_for)\n",
      "/usr/local/lib/python3.6/site-packages/sklearn/metrics/classification.py:1135: UndefinedMetricWarning: F-score is ill-defined and being set to 0.0 in labels with no predicted samples.\n",
      "  'precision', 'predicted', average, warn_for)\n",
      "/usr/local/lib/python3.6/site-packages/sklearn/metrics/classification.py:1135: UndefinedMetricWarning: F-score is ill-defined and being set to 0.0 in labels with no predicted samples.\n",
      "  'precision', 'predicted', average, warn_for)\n",
      "/usr/local/lib/python3.6/site-packages/sklearn/metrics/classification.py:1135: UndefinedMetricWarning: F-score is ill-defined and being set to 0.0 in labels with no predicted samples.\n",
      "  'precision', 'predicted', average, warn_for)\n"
     ]
    },
    {
     "name": "stdout",
     "output_type": "stream",
     "text": [
      "F1 of polynomial model is: 0.23737993217\n",
      "Accuracy of polynomial model is 0.408926148179\n",
      "F1 of RBF model is: 0.815126354916\n",
      "Accuracy of RBF model is 0.817820243382\n",
      "F1 of decision tree model is: 0.354563405262\n",
      "Accuracy of decision tree model is 0.359029026118\n"
     ]
    },
    {
     "name": "stderr",
     "output_type": "stream",
     "text": [
      "/usr/local/lib/python3.6/site-packages/sklearn/metrics/classification.py:1135: UndefinedMetricWarning: F-score is ill-defined and being set to 0.0 in labels with no predicted samples.\n",
      "  'precision', 'predicted', average, warn_for)\n",
      "/usr/local/lib/python3.6/site-packages/sklearn/metrics/classification.py:1135: UndefinedMetricWarning: F-score is ill-defined and being set to 0.0 in labels with no predicted samples.\n",
      "  'precision', 'predicted', average, warn_for)\n",
      "/usr/local/lib/python3.6/site-packages/sklearn/metrics/classification.py:1135: UndefinedMetricWarning: F-score is ill-defined and being set to 0.0 in labels with no predicted samples.\n",
      "  'precision', 'predicted', average, warn_for)\n",
      "/usr/local/lib/python3.6/site-packages/sklearn/metrics/classification.py:1135: UndefinedMetricWarning: F-score is ill-defined and being set to 0.0 in labels with no predicted samples.\n",
      "  'precision', 'predicted', average, warn_for)\n",
      "/usr/local/lib/python3.6/site-packages/sklearn/metrics/classification.py:1135: UndefinedMetricWarning: F-score is ill-defined and being set to 0.0 in labels with no predicted samples.\n",
      "  'precision', 'predicted', average, warn_for)\n"
     ]
    },
    {
     "name": "stdout",
     "output_type": "stream",
     "text": [
      "F1 of decision tree model with adaboost is: 0.346508389508\n",
      "Accuracy of decision tree model with adaboost is 0.42979627084\n"
     ]
    },
    {
     "name": "stderr",
     "output_type": "stream",
     "text": [
      "/usr/local/lib/python3.6/site-packages/sklearn/metrics/classification.py:1135: UndefinedMetricWarning: F-score is ill-defined and being set to 0.0 in labels with no predicted samples.\n",
      "  'precision', 'predicted', average, warn_for)\n",
      "/usr/local/lib/python3.6/site-packages/sklearn/metrics/classification.py:1135: UndefinedMetricWarning: F-score is ill-defined and being set to 0.0 in labels with no predicted samples.\n",
      "  'precision', 'predicted', average, warn_for)\n"
     ]
    },
    {
     "name": "stdout",
     "output_type": "stream",
     "text": [
      "F1 of kNN model is: 0.480730096533\n",
      "Accuracy of kNN model is 0.558203469212\n"
     ]
    }
   ],
   "source": [
    "\"\"\"\n",
    "This cell uses different classifiers and prints their F1 scores and accuracies.\n",
    "\"\"\"\n",
    "\n",
    "svm_linear = SVM('linear')\n",
    "f1 = compute_f1(svm_linear, X_train_pca, y_train)\n",
    "print(\"F1 of linear model is:\", f1)\n",
    "acc = accuracy(svm_linear, X_train_pca, y_train)\n",
    "print(\"Accuracy of linear model is\",acc)\n",
    "\n",
    "# Upon experimentation, we found that the results are the best\n",
    "# when degree = 2\n",
    "svm_poly = SVM('poly', degree=2)\n",
    "f1 = compute_f1(svm_poly, X_train_pca, y_train)\n",
    "print(\"F1 of polynomial model is:\", f1)\n",
    "acc = accuracy(svm_poly, X_train_pca, y_train)\n",
    "print(\"Accuracy of polynomial model is\", acc)\n",
    "\n",
    "svm_RBF = SVM('rbf',C=1000,gamma=0.001)\n",
    "f1 = compute_f1(svm_RBF, X_train_pca, y_train)\n",
    "print(\"F1 of RBF model is:\", f1)\n",
    "acc = accuracy(svm_RBF,X_train_pca,y_train)\n",
    "print(\"Accuracy of RBF model is\",acc)\n",
    "\n",
    "decision_tree = dtree()\n",
    "f1 = compute_f1(decision_tree, X_train_pca, y_train)\n",
    "print(\"F1 of decision tree model is:\", f1)\n",
    "acc = accuracy(decision_tree,X_train_pca,y_train)\n",
    "print(\"Accuracy of decision tree model is\",acc)\n",
    "\n",
    "dtree_ada = dtree_adaboost()\n",
    "f1 = compute_f1(dtree_ada, X_train_pca, y_train)\n",
    "print(\"F1 of decision tree model with adaboost is:\", f1)\n",
    "acc = accuracy(dtree_ada,X_train_pca,y_train)\n",
    "print(\"Accuracy of decision tree model with adaboost is\",acc)\n",
    "\n",
    "for k in (1, 3, 5, 7, 9, 11, 13, 15):\n",
    "    print(\"For \",k, \"neighbours\")\n",
    "    knn = kNN(n_neighbor=k)\n",
    "    f1 = compute_f1(knn, X_train_pca, y_train)\n",
    "    print(\"F1 of kNN model is:\", f1)\n",
    "    acc = accuracy(knn,X_train_pca,y_train)\n",
    "    print(\"Accuracy of kNN is\",acc)"
   ]
  },
  {
   "cell_type": "markdown",
   "metadata": {},
   "source": [
    "## Optimal Hyper-parameter Search Using Grid Search"
   ]
  },
  {
   "cell_type": "code",
   "execution_count": 63,
   "metadata": {},
   "outputs": [],
   "source": [
    "# Commented out as this is time-consuming\n",
    "\n",
    "# RBF with optimal hyperparameters\n",
    "# param_grid = {'C': [1000, 50000, 100000],\n",
    "#              'gamma': [0.0005, 0.005, 0.001, 0.1], }\n",
    "# svm_RBF_optimal = GridSearchCV(SVC(kernel='rbf', class_weight='balanced'), param_grid)\n",
    "# f1 = compute_f1(svm_RBF_optimal, X_train, y_train)\n",
    "# print(\"F1 of RBF model with optimal hyperparameters is:\", f1)\n",
    "\n",
    "# f1 = compute_f1(svm_RBF_optimal, X_train_pca, y_train)\n",
    "# print(\"F1 of RBF model with optimal hyperparameters and reduced dimensions is:\", f1)"
   ]
  }
 ],
 "metadata": {
  "kernelspec": {
   "display_name": "Python 3",
   "language": "python",
   "name": "python3"
  },
  "language_info": {
   "codemirror_mode": {
    "name": "ipython",
    "version": 3
   },
   "file_extension": ".py",
   "mimetype": "text/x-python",
   "name": "python",
   "nbconvert_exporter": "python",
   "pygments_lexer": "ipython3",
   "version": "3.6.3"
  }
 },
 "nbformat": 4,
 "nbformat_minor": 2
}
