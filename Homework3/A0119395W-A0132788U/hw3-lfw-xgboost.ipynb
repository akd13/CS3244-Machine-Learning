{
 "cells": [
  {
   "cell_type": "markdown",
   "metadata": {},
   "source": [
    "# XGBoost"
   ]
  },
  {
   "cell_type": "code",
   "execution_count": 6,
   "metadata": {},
   "outputs": [
    {
     "name": "stdout",
     "output_type": "stream",
     "text": [
      "Collecting xgboost\n",
      "  Using cached xgboost-0.6a2.tar.gz\n",
      "    Complete output from command python setup.py egg_info:\n",
      "    rm -f -rf build build_plugin lib bin *~ */*~ */*/*~ */*/*/*~ */*.o */*/*.o */*/*/*.o xgboost\n",
      "    clang-omp++ -std=c++0x -Wall -O3 -msse2  -Wno-unknown-pragmas -funroll-loops -Iinclude   -Idmlc-core/include -Irabit/include -fPIC -fopenmp -MM -MT build/learner.o src/learner.cc >build/learner.d\n",
      "    /bin/sh: clang-omp++: command not found\n",
      "    clang-omp++ -std=c++0x -Wall -O3 -msse2  -Wno-unknown-pragmas -funroll-loops -Iinclude   -Idmlc-core/include -Irabit/include -fPIC -fopenmp -MM -MT build/logging.o src/logging.cc >build/logging.d\n",
      "    make: *** [build/learner.o] Error 127\n",
      "    make: *** Waiting for unfinished jobs....\n",
      "    /bin/sh: clang-omp++: command not found\n",
      "    make: *** [build/logging.o] Error 127\n",
      "    -----------------------------\n",
      "    Building multi-thread xgboost failed\n",
      "    Start to build single-thread xgboost\n",
      "    rm -f -rf build build_plugin lib bin *~ */*~ */*/*~ */*/*/*~ */*.o */*/*.o */*/*/*.o xgboost\n",
      "    clang-omp++ -std=c++0x -Wall -O3 -msse2  -Wno-unknown-pragmas -funroll-loops -Iinclude   -Idmlc-core/include -Irabit/include -fPIC -fopenmp -MM -MT build/learner.o src/learner.cc >build/learner.d\n",
      "    /bin/sh: clang-omp++: command not found\n",
      "    clang-omp++ -std=c++0x -Wall -O3 -msse2  -Wno-unknown-pragmas -funroll-loops -Iinclude   -Idmlc-core/include -Irabit/include -fPIC -fopenmp -MM -MT build/logging.o src/logging.cc >build/logging.d\n",
      "    make: *** [build/learner.o] Error 127\n",
      "    make: *** Waiting for unfinished jobs....\n",
      "    /bin/sh: clang-omp++: command not found\n",
      "    make: *** [build/logging.o] Error 127\n",
      "    Successfully build single-thread xgboost\n",
      "    If you want multi-threaded version\n",
      "    See additional instructions in doc/build.md\n",
      "    Traceback (most recent call last):\n",
      "      File \"<string>\", line 1, in <module>\n",
      "      File \"/private/var/folders/0g/8x_5_qzn7fx8y374qqy4ykt00000gn/T/pip-build-pd7uzeo3/xgboost/setup.py\", line 29, in <module>\n",
      "        LIB_PATH = libpath['find_lib_path']()\n",
      "      File \"/private/var/folders/0g/8x_5_qzn7fx8y374qqy4ykt00000gn/T/pip-build-pd7uzeo3/xgboost/xgboost/libpath.py\", line 45, in find_lib_path\n",
      "        'List of candidates:\\n' + ('\\n'.join(dll_path)))\n",
      "    XGBoostLibraryNotFound: Cannot find XGBoost Libarary in the candicate path, did you install compilers and run build.sh in root path?\n",
      "    List of candidates:\n",
      "    /private/var/folders/0g/8x_5_qzn7fx8y374qqy4ykt00000gn/T/pip-build-pd7uzeo3/xgboost/xgboost/libxgboost.so\n",
      "    /private/var/folders/0g/8x_5_qzn7fx8y374qqy4ykt00000gn/T/pip-build-pd7uzeo3/xgboost/xgboost/../../lib/libxgboost.so\n",
      "    /private/var/folders/0g/8x_5_qzn7fx8y374qqy4ykt00000gn/T/pip-build-pd7uzeo3/xgboost/xgboost/./lib/libxgboost.so\n",
      "    \n",
      "    ----------------------------------------\n",
      "\u001b[31mCommand \"python setup.py egg_info\" failed with error code 1 in /private/var/folders/0g/8x_5_qzn7fx8y374qqy4ykt00000gn/T/pip-build-pd7uzeo3/xgboost/\u001b[0m\n"
     ]
    }
   ],
   "source": [
    "# Install dependency for xgboost\n",
    "!pip3 install xgboost "
   ]
  },
  {
   "cell_type": "code",
   "execution_count": 4,
   "metadata": {},
   "outputs": [],
   "source": [
    "import numpy as np\n",
    "import common\n",
    "import preprocess\n",
    "from sklearn.model_selection import cross_val_score\n",
    "from xgboost import XGBClassifier"
   ]
  },
  {
   "cell_type": "markdown",
   "metadata": {},
   "source": [
    "## Definition of XGBoost Model"
   ]
  },
  {
   "cell_type": "code",
   "execution_count": 5,
   "metadata": {},
   "outputs": [],
   "source": [
    "\"\"\"\n",
    "Definition of XGBoost model and evaluation metric.\n",
    "\"\"\"\n",
    "\n",
    "def XGBoostModel(X_train, y_train):\n",
    "    \"\"\"\n",
    "    Trains the data with the given kernel.\n",
    "    \"\"\"\n",
    "    model = XGBClassifier()\n",
    "    model.fit(X_train, y_train)\n",
    "    return model\n",
    "\n",
    "\n",
    "def compute_f1(model, X, y):\n",
    "    \"\"\"\n",
    "    Given a model and the evaluation data, returns the F1 score.\n",
    "    \"\"\"\n",
    "    return np.mean(cross_val_score(model, X, y, cv=common.N_FOLDS, scoring='f1_weighted'))"
   ]
  },
  {
   "cell_type": "markdown",
   "metadata": {},
   "source": [
    "## Evaluation and Saving Results"
   ]
  },
  {
   "cell_type": "code",
   "execution_count": 6,
   "metadata": {},
   "outputs": [
    {
     "name": "stderr",
     "output_type": "stream",
     "text": [
      "/usr/local/lib/python3.6/site-packages/sklearn/metrics/classification.py:1135: UndefinedMetricWarning: F-score is ill-defined and being set to 0.0 in labels with no predicted samples.\n",
      "  'precision', 'predicted', average, warn_for)\n"
     ]
    },
    {
     "name": "stdout",
     "output_type": "stream",
     "text": [
      "F1 of XGBoost model is: 0.682604241607\n"
     ]
    }
   ],
   "source": [
    "\"\"\"\n",
    "Data loading.\n",
    "\"\"\"\n",
    "X_train = preprocess.load_data(common.X_train_file)\n",
    "X_test = preprocess.load_data(common.X_test_file)\n",
    "y_train = preprocess.load_label(common.y_train_file)\n",
    "\n",
    "\n",
    "\"\"\"\n",
    "Evaluation.\n",
    "\"\"\"\n",
    "model = XGBoostModel(X_train, y_train)\n",
    "f1 = compute_f1(model, X_train, y_train)\n",
    "print(\"F1 of XGBoost model is:\", f1)\n",
    "\n",
    "# Classify testing data for XGBoost and save results to csv file \n",
    "y_test = model.predict(X_test)\n",
    "common.save_results('submission_XGBOOST.csv', y_test)"
   ]
  }
 ],
 "metadata": {
  "kernelspec": {
   "display_name": "Python 3",
   "language": "python",
   "name": "python3"
  },
  "language_info": {
   "codemirror_mode": {
    "name": "ipython",
    "version": 3
   },
   "file_extension": ".py",
   "mimetype": "text/x-python",
   "name": "python",
   "nbconvert_exporter": "python",
   "pygments_lexer": "ipython3",
   "version": "3.6.3"
  }
 },
 "nbformat": 4,
 "nbformat_minor": 2
}
