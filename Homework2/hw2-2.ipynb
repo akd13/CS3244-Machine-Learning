{
 "cells": [
  {
   "cell_type": "markdown",
   "metadata": {
    "collapsed": true
   },
   "source": [
    "# Homework #2 - Support Vector Machines"
   ]
  },
  {
   "cell_type": "markdown",
   "metadata": {},
   "source": [
    "This is the README section for A0132788U's submission."
   ]
  },
  {
   "cell_type": "markdown",
   "metadata": {},
   "source": [
    "**General Notes** <br>\n",
    "The homework is formatted in accordance with the past homework and based on the tutorial. It uses the sklearn.svm module to make a support vector machine for a subset of the GISETTE dataset"
   ]
  },
  {
   "cell_type": "markdown",
   "metadata": {},
   "source": [
    "**Files Included in this Submission** <br>\n",
    "**hw-2-1.ipynb** : iPython notebook <br>\n",
    "**hw-2-2.ipynb** : iPython notebook <br>\n",
    "**essay2.pdf**: essay answers"
   ]
  },
  {
   "cell_type": "code",
   "execution_count": 190,
   "metadata": {
    "collapsed": true
   },
   "outputs": [],
   "source": [
    "%matplotlib notebook\n",
    "import numpy as np\n",
    "from numpy import genfromtxt\n",
    "from sklearn import svm\n",
    "from sklearn.svm import SVC\n",
    "from sklearn.datasets import load_svmlight_file"
   ]
  },
  {
   "cell_type": "code",
   "execution_count": 191,
   "metadata": {
    "collapsed": true
   },
   "outputs": [],
   "source": [
    "#SVM Training function\n",
    "def SVM_train(X, Y, cost, kernel, gamma, N):\n",
    "    trainX = np.matrix(X)\n",
    "    labelY = np.ravel(Y)\n",
    "    if (N == -1):\n",
    "        svmModel = SVC(C=cost, kernel=kernel, gamma=gamma)\n",
    "    else:\n",
    "        svmModel = SVC(C=cost, kernel=kernel, gamma=gamma, degree=N, coef0=1.0);\n",
    "    svmModel.fit(trainX, labelY)  \n",
    "    totalSV = svmModel.support_.size\n",
    "    return svmModel,totalSV"
   ]
  },
  {
   "cell_type": "code",
   "execution_count": 192,
   "metadata": {
    "collapsed": true
   },
   "outputs": [],
   "source": [
    "#Caluclate error\n",
    "def error(X,Y,clf):\n",
    "    sum = 0\n",
    "    N = len(X)\n",
    "    for i in range(N):\n",
    "        if (clf.predict(np.reshape(X[i],(1, -1)))[0] != Y[i][0]):\n",
    "            sum = sum + 1   \n",
    "    sum = sum/N   \n",
    "    return sum       "
   ]
  },
  {
   "cell_type": "markdown",
   "metadata": {},
   "source": [
    "### 2.d.Standard run: Use all the 6000 training samples from the training set to train the model, and test over all test instances, using the linear kernel."
   ]
  },
  {
   "cell_type": "code",
   "execution_count": 193,
   "metadata": {},
   "outputs": [],
   "source": [
    "# load data\n",
    "ROWS_train = 6000\n",
    "ROWS_test = 1000\n",
    "DIM = 5000\n",
    "\n",
    "#Training data\n",
    "training_data = open('hw2-2-train.txt','r')\n",
    "insample_data = np.zeros((ROWS_train, DIM))\n",
    "Y_train = np.zeros((ROWS_train))\n",
    "for i in range(ROWS_train):\n",
    "    current_row = training_data.readline().split(\" \")\n",
    "    Y_train[i] = current_row[0]\n",
    "    column_values=np.delete(current_row, 0)\n",
    "    for j in range(len(column_values)-1):\n",
    "        value = column_values[j].split(\":\")\n",
    "        value0 = int(value[0])\n",
    "        value1 = float(value[1])\n",
    "        insample_data[i][value0-1] = value1\n",
    "        \n",
    "\n",
    "#print(insample_data)\n",
    "#print(Y_train)\n",
    "Y_train = np.transpose(np.matrix(Y_train))"
   ]
  },
  {
   "cell_type": "code",
   "execution_count": 194,
   "metadata": {
    "scrolled": true
   },
   "outputs": [],
   "source": [
    "#Testing data\n",
    "testing_data = open('hw2-2-test.txt','r')\n",
    "outsample_data = np.zeros((ROWS_test, DIM))\n",
    "Y_test = np.zeros((ROWS_test))\n",
    "for i in range(ROWS_test):\n",
    "    current_row = testing_data.readline().split(\" \")\n",
    "    Y_test[i] = current_row[0]\n",
    "    column_values=np.delete(current_row, 0)\n",
    "    for j in range(len(column_values)-1):\n",
    "        value = column_values[j].split(\":\")\n",
    "        value0 = int(value[0])\n",
    "        value1 = float(value[1])\n",
    "        outsample_data[i][value0-1] = value1\n",
    "        \n",
    "\n",
    "#print(outsample_data)\n",
    "#print(Y_test)\n",
    "Y_test = np.transpose(np.matrix(Y_test))\n"
   ]
  },
  {
   "cell_type": "code",
   "execution_count": 195,
   "metadata": {},
   "outputs": [
    {
     "name": "stdout",
     "output_type": "stream",
     "text": [
      "No. of SV is 1084 E_in is: 0.0 E_out is: 0.025\n"
     ]
    }
   ],
   "source": [
    "data,totalSV = SVM_train(insample_data, Y_train, 1.0, 'linear', 'auto', 1)\n",
    "E_in  = error(insample_data, Y_train, data)\n",
    "E_out = error(outsample_data, Y_test, data)\n",
    "print(\"No. of SV is\",totalSV,\"E_in is:\", E_in,\"E_out is:\",E_out)\n",
    "kernel = 'linear'\n",
    "cost = 1.0\n",
    "trainAccuracy = 1 - E_in\n",
    "testAccuracy = 1 - E_out"
   ]
  },
  {
   "cell_type": "code",
   "execution_count": 196,
   "metadata": {
    "collapsed": true
   },
   "outputs": [],
   "source": [
    "# report results in text file\n",
    "fo = open('problem-2d.txt','w')\n",
    "fo.write(\"Kernel: \"+ str(kernel)+\"\\n\")\n",
    "fo.write(\"Cost: \"+ str(cost)+ \"\\n\")\n",
    "fo.write(\"Number of Support Vectors: \"+ str(totalSV)+\"\\n\")\n",
    "fo.write(\"Train Accuracy: \"+ str(trainAccuracy)+\"\\n\")\n",
    "fo.write(\"Test Accuracy: \" + str(testAccuracy)+\"\\n\")\n",
    "fo.close()"
   ]
  },
  {
   "cell_type": "markdown",
   "metadata": {},
   "source": [
    "### 2.e. Kernel variations: In addition to the basic linear kernel, investigate two other standard kernels: RBF (a.k.a. Gaussian kernel; set γ = 0.001), Polynomial kernel (set degree=2,coef0=1; e.g, (1+xTx)2). Which kernel yields the lowest Ein?"
   ]
  },
  {
   "cell_type": "code",
   "execution_count": 197,
   "metadata": {},
   "outputs": [
    {
     "name": "stdout",
     "output_type": "stream",
     "text": [
      "For RBF kernel\n",
      " No. of SV is 2594 \n",
      "E_in is: 0.0011666666666666668 E_out is: 0.02 \n",
      "Train Accuracy is: 0.9988333333333334  and Test Accuracy is: 0.98\n"
     ]
    }
   ],
   "source": [
    "dataRBF,totalSVRBF = SVM_train(insample_data, Y_train, 1, 'rbf', 0.001, 1)\n",
    "dataPoly,totalSVPoly = SVM_train(insample_data, Y_train, 1, 'poly', 1.0, 2)\n",
    "\n",
    "E_in  = error(insample_data, Y_train, dataRBF)\n",
    "E_out = error(outsample_data, Y_test, dataRBF)\n",
    "trainAccuracy = 1 - E_in\n",
    "testAccuracy = 1 - E_out\n",
    "print(\"For RBF kernel\\n No. of SV is\",totalSVRBF,\"\\nE_in is:\", E_in,\"E_out is:\",E_out,\"\\nTrain Accuracy is:\", trainAccuracy,\" and Test Accuracy is:\",testAccuracy)\n"
   ]
  },
  {
   "cell_type": "code",
   "execution_count": 198,
   "metadata": {},
   "outputs": [
    {
     "name": "stdout",
     "output_type": "stream",
     "text": [
      "For polynomial kernel\n",
      " No. of SV is 1295 \n",
      "E_in is: 0.0 E_out is: 0.02 \n",
      "Train Accuracy is: 1.0  and Test Accuracy is: 0.98\n"
     ]
    }
   ],
   "source": [
    "E_in  = error(insample_data, Y_train, dataPoly)\n",
    "E_out = error(outsample_data, Y_test, dataPoly)\n",
    "trainAccuracy = 1 - E_in\n",
    "testAccuracy = 1 - E_out\n",
    "print(\"For polynomial kernel\\n No. of SV is\",totalSVPoly,\"\\nE_in is:\", E_in,\"E_out is:\",E_out,\"\\nTrain Accuracy is:\", trainAccuracy,\" and Test Accuracy is:\",testAccuracy)\n"
   ]
  },
  {
   "cell_type": "markdown",
   "metadata": {},
   "source": [
    "### Ans. Polynomial kernel yields the lower E_in and is more accurate."
   ]
  },
  {
   "cell_type": "markdown",
   "metadata": {},
   "source": [
    "## Statement of Individual Work\n",
    "\n",
    "Please initial (between the square brackets) one of the following statements.\n",
    "\n",
    "[ A. D] I, <*A0132788U*>, certify that I have followed the CS 3244 Machine Learning class guidelines for homework assignments.  In particular, I expressly vow that I have followed the Facebook rule in discussing with others in doing the assignment and did not take notes (digital or printed) from the discussions. "
   ]
  }
 ],
 "metadata": {
  "kernelspec": {
   "display_name": "Python 3",
   "language": "python",
   "name": "python3"
  },
  "language_info": {
   "codemirror_mode": {
    "name": "ipython",
    "version": 3
   },
   "file_extension": ".py",
   "mimetype": "text/x-python",
   "name": "python",
   "nbconvert_exporter": "python",
   "pygments_lexer": "ipython3",
   "version": "3.5.2"
  }
 },
 "nbformat": 4,
 "nbformat_minor": 2
}
